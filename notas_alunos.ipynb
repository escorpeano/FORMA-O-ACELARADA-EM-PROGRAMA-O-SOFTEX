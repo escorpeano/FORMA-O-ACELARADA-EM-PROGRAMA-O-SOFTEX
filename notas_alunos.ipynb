{
 "cells": [
  {
   "cell_type": "markdown",
   "metadata": {},
   "source": [
    "#Projeto 20 - Biblioteca de leitura e escrita de arquivos com pandas<br>\n",
    "#Disciplica: Lógica de Programação<br>\n",
    "#Aluno: Renato Araújo"
   ]
  },
  {
   "cell_type": "code",
   "execution_count": 15,
   "metadata": {},
   "outputs": [
    {
     "data": {
      "text/html": [
       "<div>\n",
       "<style scoped>\n",
       "    .dataframe tbody tr th:only-of-type {\n",
       "        vertical-align: middle;\n",
       "    }\n",
       "\n",
       "    .dataframe tbody tr th {\n",
       "        vertical-align: top;\n",
       "    }\n",
       "\n",
       "    .dataframe thead th {\n",
       "        text-align: right;\n",
       "    }\n",
       "</style>\n",
       "<table border=\"1\" class=\"dataframe\">\n",
       "  <thead>\n",
       "    <tr style=\"text-align: right;\">\n",
       "      <th></th>\n",
       "      <th>Aluno</th>\n",
       "      <th>Nota 1</th>\n",
       "      <th>Nota 2</th>\n",
       "      <th>Faltas</th>\n",
       "      <th>Média Acadêmica</th>\n",
       "      <th>Situação Acadêmica</th>\n",
       "    </tr>\n",
       "  </thead>\n",
       "  <tbody>\n",
       "    <tr>\n",
       "      <th>0</th>\n",
       "      <td>aluno_1</td>\n",
       "      <td>7</td>\n",
       "      <td>7</td>\n",
       "      <td>1</td>\n",
       "      <td>7.0</td>\n",
       "      <td>Aprovado</td>\n",
       "    </tr>\n",
       "    <tr>\n",
       "      <th>1</th>\n",
       "      <td>aluno_2</td>\n",
       "      <td>3</td>\n",
       "      <td>10</td>\n",
       "      <td>7</td>\n",
       "      <td>6.5</td>\n",
       "      <td>Reprovado</td>\n",
       "    </tr>\n",
       "    <tr>\n",
       "      <th>2</th>\n",
       "      <td>aluno_3</td>\n",
       "      <td>9</td>\n",
       "      <td>4</td>\n",
       "      <td>2</td>\n",
       "      <td>6.5</td>\n",
       "      <td>Reprovado</td>\n",
       "    </tr>\n",
       "    <tr>\n",
       "      <th>3</th>\n",
       "      <td>aluno_4</td>\n",
       "      <td>10</td>\n",
       "      <td>6</td>\n",
       "      <td>9</td>\n",
       "      <td>8.0</td>\n",
       "      <td>Reprovado</td>\n",
       "    </tr>\n",
       "  </tbody>\n",
       "</table>\n",
       "</div>"
      ],
      "text/plain": [
       "     Aluno  Nota 1  Nota 2  Faltas  Média Acadêmica Situação Acadêmica\n",
       "0  aluno_1       7       7       1              7.0           Aprovado\n",
       "1  aluno_2       3      10       7              6.5          Reprovado\n",
       "2  aluno_3       9       4       2              6.5          Reprovado\n",
       "3  aluno_4      10       6       9              8.0          Reprovado"
      ]
     },
     "metadata": {},
     "output_type": "display_data"
    }
   ],
   "source": [
    "import pandas as pd\n",
    "tabela = pd.read_excel(\"notas_alunos.xlsx\")\n",
    "media_academica=(tabela[\"Nota 1\"]+tabela[\"Nota 2\"])/2\n",
    "tabela[\"Média Acadêmica\"]=media_academica\n",
    "tabela.loc[(tabela[\"Média Acadêmica\"]>=7) | (tabela[\"Faltas\"]<=5),\"Situação Acadêmica\"]=\"Aprovado\"\n",
    "tabela.loc[(tabela[\"Média Acadêmica\"]<7) | (tabela[\"Faltas\"]>5),\"Situação Acadêmica\"]=\"Reprovado\"\n",
    "tabela[\"Situação Acadêmica\"]\n",
    "\n",
    "#Salvei em excel porque não consegui trabalhar em csv no cscode\n",
    "tabela.to_excel(\"alunos_situacao.xlsx\")\n",
    "display(tabela)\n"
   ]
  },
  {
   "cell_type": "markdown",
   "metadata": {},
   "source": [
    "Maior Número de faltas"
   ]
  },
  {
   "cell_type": "code",
   "execution_count": 16,
   "metadata": {},
   "outputs": [
    {
     "name": "stdout",
     "output_type": "stream",
     "text": [
      "Maior Números de Faltas é :9\n"
     ]
    }
   ],
   "source": [
    "#Maior número de faltas\n",
    "maior_num_faltas = tabela [\"Faltas\"].max()\n",
    "print(\"Maior Números de Faltas é :\" + str(maior_num_faltas))"
   ]
  },
  {
   "cell_type": "markdown",
   "metadata": {},
   "source": [
    "Média Geral das Notas Dos Alunos"
   ]
  },
  {
   "cell_type": "code",
   "execution_count": 17,
   "metadata": {},
   "outputs": [
    {
     "name": "stdout",
     "output_type": "stream",
     "text": [
      "A Média Geral das Notas dos Alunos é: 6.75\n"
     ]
    }
   ],
   "source": [
    "media_geral_das_notas = tabela [\"Média Acadêmica\"].median()\n",
    "print(\"A Média Geral das Notas dos Alunos é: \"+ str(media_geral_das_notas))"
   ]
  },
  {
   "cell_type": "markdown",
   "metadata": {},
   "source": [
    "A Maior Média"
   ]
  },
  {
   "cell_type": "code",
   "execution_count": 18,
   "metadata": {},
   "outputs": [
    {
     "name": "stdout",
     "output_type": "stream",
     "text": [
      "A Maior Média é: 8.0\n"
     ]
    }
   ],
   "source": [
    "maior_media = tabela [\"Média Acadêmica\"].max()\n",
    "print(\"A Maior Média é: \" + str(maior_media))"
   ]
  }
 ],
 "metadata": {
  "kernelspec": {
   "display_name": "Python 3.10.5 64-bit",
   "language": "python",
   "name": "python3"
  },
  "language_info": {
   "codemirror_mode": {
    "name": "ipython",
    "version": 3
   },
   "file_extension": ".py",
   "mimetype": "text/x-python",
   "name": "python",
   "nbconvert_exporter": "python",
   "pygments_lexer": "ipython3",
   "version": "3.10.5"
  },
  "orig_nbformat": 4,
  "vscode": {
   "interpreter": {
    "hash": "d9d9202318a1e7cae6cbefb78f472b4aa35414ec67c735a31351dec9fe4eab23"
   }
  }
 },
 "nbformat": 4,
 "nbformat_minor": 2
}
