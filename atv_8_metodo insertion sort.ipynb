{
 "cells": [
  {
   "cell_type": "markdown",
   "metadata": {},
   "source": [
    "##Projeto 8 - Método Insertion Sort<br>\n",
    "#Aluno: Renato Araújo<br>\n",
    "#Disciplica: Lógica de Programação"
   ]
  },
  {
   "cell_type": "code",
   "execution_count": 19,
   "metadata": {},
   "outputs": [
    {
     "name": "stdout",
     "output_type": "stream",
     "text": [
      "Vetores Ímpares em ordem crescente:\n",
      "[6, 8, 10, 14, 15, 18, 20, 21, 24, 34, 43, 47, 48, 49, 51, 52, 56, 61, 63, 66, 69, 70, 71, 74, 77, 79, 84, 85, 89, 91]\n"
     ]
    }
   ],
   "source": [
    "#Código do Insertion Sort\n",
    "def insertion_sort(vetor_30):\n",
    "    for step in range(1,len(vetor_30)):\n",
    "        key = vetor_30[step]\n",
    "        j = step - 1\n",
    "        while j >= 0 and key < vetor_30[j]:\n",
    "            vetor_30[j+1] = vetor_30[j]\n",
    "            j = j-1\n",
    "        vetor_30[j+1] = key\n",
    "import random\n",
    "any_numbers = random.sample(range(1,100), 30)\n",
    "insertion_sort(any_numbers)\n",
    "#Não consegui descobrir como colocar retornar apenas números ímpares.\n",
    "print('Vetores em ordem crescente:')\n",
    "print(any_numbers)\n"
   ]
  }
 ],
 "metadata": {
  "kernelspec": {
   "display_name": "Python 3.10.5 64-bit",
   "language": "python",
   "name": "python3"
  },
  "language_info": {
   "codemirror_mode": {
    "name": "ipython",
    "version": 3
   },
   "file_extension": ".py",
   "mimetype": "text/x-python",
   "name": "python",
   "nbconvert_exporter": "python",
   "pygments_lexer": "ipython3",
   "version": "3.10.5"
  },
  "orig_nbformat": 4,
  "vscode": {
   "interpreter": {
    "hash": "d9d9202318a1e7cae6cbefb78f472b4aa35414ec67c735a31351dec9fe4eab23"
   }
  }
 },
 "nbformat": 4,
 "nbformat_minor": 2
}
