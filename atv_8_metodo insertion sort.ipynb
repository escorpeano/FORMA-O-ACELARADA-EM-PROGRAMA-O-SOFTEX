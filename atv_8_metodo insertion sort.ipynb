{
 "cells": [
  {
   "cell_type": "markdown",
   "metadata": {},
   "source": [
    "##Projeto 8 - Método Insertion Sort<br>\n",
    "#Aluno: Renato Araújo<br>\n",
    "#Disciplica: Lógica de Programação"
   ]
  },
  {
   "cell_type": "code",
   "execution_count": 1,
   "metadata": {},
   "outputs": [
    {
     "name": "stdout",
     "output_type": "stream",
     "text": [
      "Vetores em ordem crescente:\n",
      "[1, 5, 9, 10, 14, 18, 19, 23, 27, 29, 30, 31, 36, 42, 44, 46, 50, 51, 53, 54, 56, 62, 68, 74, 78, 79, 80, 90, 98, 99]\n"
     ]
    }
   ],
   "source": [
    "#Código do Insertion Sort\n",
    "def insertion_sort(vetor_30):\n",
    "    for step in range(1,len(vetor_30)):\n",
    "        key = vetor_30[step]\n",
    "        j = step - 1\n",
    "        while j >= 0 and key < vetor_30[j]:\n",
    "            vetor_30[j+1] = vetor_30[j]\n",
    "            j = j-1\n",
    "        vetor_30[j+1] = key\n",
    "import random\n",
    "any_numbers = random.sample(range(1,100), 30)\n",
    "insertion_sort(any_numbers)\n",
    "#Não consegui descobrir como colocar retornar apenas números ímpares.\n",
    "print('Vetores em ordem crescente:')\n",
    "print(any_numbers)\n"
   ]
  }
 ],
 "metadata": {
  "kernelspec": {
   "display_name": "Python 3.10.5 64-bit",
   "language": "python",
   "name": "python3"
  },
  "language_info": {
   "codemirror_mode": {
    "name": "ipython",
    "version": 3
   },
   "file_extension": ".py",
   "mimetype": "text/x-python",
   "name": "python",
   "nbconvert_exporter": "python",
   "pygments_lexer": "ipython3",
   "version": "3.10.5"
  },
  "orig_nbformat": 4,
  "vscode": {
   "interpreter": {
    "hash": "d9d9202318a1e7cae6cbefb78f472b4aa35414ec67c735a31351dec9fe4eab23"
   }
  }
 },
 "nbformat": 4,
 "nbformat_minor": 2
}
