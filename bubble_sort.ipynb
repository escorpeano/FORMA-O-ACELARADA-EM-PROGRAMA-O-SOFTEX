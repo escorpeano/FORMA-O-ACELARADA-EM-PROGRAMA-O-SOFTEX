{
 "cells": [
  {
   "cell_type": "markdown",
   "metadata": {},
   "source": [
    "##Projeto 7 - Conceito de bubble sort<br>\n",
    "#Aluno: Renato Araújo<br>\n",
    "#Disciplica: Lógica de Programação"
   ]
  },
  {
   "cell_type": "code",
   "execution_count": 40,
   "metadata": {},
   "outputs": [],
   "source": [
    "def vetor_bubble_sort(lista):\n",
    "    n = len (lista)\n",
    "    for j in range(n-1):\n",
    "        for i in range(n-1):\n",
    "            if lista[i] > lista [i+1]:\n",
    "               aux = lista[i]\n",
    "               lista[i] = lista [i+1]\n",
    "               lista[i+1] = aux\n",
    "\n",
    "lista={30,25,15,45,10,12,16,21,6,2}\n",
    "def vetor_bubble_sort(lista):\n",
    "    print(lista)\n",
    "\n",
    "\n",
    "\n",
    "    #Bibliografia usada para construir esse código: \n",
    "    #BUBBLE SORT | Algoritmos #4 \n",
    "        #Disponível em: https://www.youtube.com/watch?v=GiNPe_678Ms\n",
    "            #Acessado em 11/08/2022 as 08:52\n",
    "    #5.7. O Bubble Sort\n",
    "        #Disponível em: https://panda.ime.usp.br/panda/static/pythonds_pt/05-OrdenacaoBusca/OBubbleSort.html\n",
    "            #Acessado em 11/08/2022 as 10:09"
   ]
  }
 ],
 "metadata": {
  "kernelspec": {
   "display_name": "Python 3.10.5 64-bit",
   "language": "python",
   "name": "python3"
  },
  "language_info": {
   "codemirror_mode": {
    "name": "ipython",
    "version": 3
   },
   "file_extension": ".py",
   "mimetype": "text/x-python",
   "name": "python",
   "nbconvert_exporter": "python",
   "pygments_lexer": "ipython3",
   "version": "3.10.5"
  },
  "orig_nbformat": 4,
  "vscode": {
   "interpreter": {
    "hash": "d9d9202318a1e7cae6cbefb78f472b4aa35414ec67c735a31351dec9fe4eab23"
   }
  }
 },
 "nbformat": 4,
 "nbformat_minor": 2
}
